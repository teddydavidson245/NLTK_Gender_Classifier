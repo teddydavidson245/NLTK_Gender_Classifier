{
  "nbformat": 4,
  "nbformat_minor": 0,
  "metadata": {
    "colab": {
      "name": "NLTK_Gender_Classifier.ipynb",
      "provenance": [],
      "collapsed_sections": [],
      "toc_visible": true,
      "authorship_tag": "ABX9TyPNKxpdjb0YvTd1Rb+SX559",
      "include_colab_link": true
    },
    "kernelspec": {
      "name": "python3",
      "display_name": "Python 3"
    },
    "language_info": {
      "name": "python"
    }
  },
  "cells": [
    {
      "cell_type": "markdown",
      "metadata": {
        "id": "view-in-github",
        "colab_type": "text"
      },
      "source": [
        "<a href=\"https://colab.research.google.com/github/teddydavidson245/NLTK_Gender_Classifier/blob/main/NLTK_Gender_Classifier.ipynb\" target=\"_parent\"><img src=\"https://colab.research.google.com/assets/colab-badge.svg\" alt=\"Open In Colab\"/></a>"
      ]
    },
    {
      "cell_type": "code",
      "execution_count": 1,
      "metadata": {
        "colab": {
          "base_uri": "https://localhost:8080/"
        },
        "id": "xPWLqoLd7qB2",
        "outputId": "5b0147ec-17ee-489f-8b94-8f6fe5429932"
      },
      "outputs": [
        {
          "output_type": "execute_result",
          "data": {
            "text/plain": [
              "{'last_letter': 'y'}"
            ]
          },
          "metadata": {},
          "execution_count": 1
        }
      ],
      "source": [
        "def gender_features(word):\n",
        "    return {'last_letter': word[-1]}\n",
        "gender_features('Teddy')\n"
      ]
    },
    {
      "cell_type": "code",
      "source": [
        "import random\n",
        "import nltk\n",
        "nltk.download('names')\n",
        "from nltk.corpus import names\n",
        "labeled_names = ([(name, 'male') for name in names.words('male.txt')] + [(name, 'female') for name in names.words('female.txt')])\n",
        "\n",
        "random.shuffle(labeled_names)\n",
        "\n",
        "featuresets = [(gender_features(n), gender) for (n, gender) in labeled_names]\n"
      ],
      "metadata": {
        "id": "25C5xo4S8Ug5",
        "colab": {
          "base_uri": "https://localhost:8080/"
        },
        "outputId": "7d0364cc-aa9a-4f5d-c60a-f14f23420327"
      },
      "execution_count": 2,
      "outputs": [
        {
          "output_type": "stream",
          "name": "stdout",
          "text": [
            "[nltk_data] Downloading package names to /root/nltk_data...\n",
            "[nltk_data]   Unzipping corpora/names.zip.\n"
          ]
        }
      ]
    },
    {
      "cell_type": "code",
      "source": [
        "len(featuresets)"
      ],
      "metadata": {
        "colab": {
          "base_uri": "https://localhost:8080/"
        },
        "id": "teCGYvCe2bYk",
        "outputId": "a11fa313-1848-405e-d7ef-7fbd5afe3b7b"
      },
      "execution_count": 3,
      "outputs": [
        {
          "output_type": "execute_result",
          "data": {
            "text/plain": [
              "7944"
            ]
          },
          "metadata": {},
          "execution_count": 3
        }
      ]
    },
    {
      "cell_type": "code",
      "source": [
        "train_set, test_set, dev_set = featuresets[1588:], featuresets[:794], featuresets[794:1588]"
      ],
      "metadata": {
        "id": "0B6_6v0z3aXA"
      },
      "execution_count": 4,
      "outputs": []
    },
    {
      "cell_type": "code",
      "source": [
        "classifier = nltk.NaiveBayesClassifier.train(dev_set)"
      ],
      "metadata": {
        "id": "cHGpunQG4IQS"
      },
      "execution_count": 5,
      "outputs": []
    },
    {
      "cell_type": "code",
      "source": [
        "print(classifier.classify(gender_features('Teddy')))\n",
        "\n",
        "print(classifier.classify(gender_features('Terry')))"
      ],
      "metadata": {
        "colab": {
          "base_uri": "https://localhost:8080/"
        },
        "id": "CuT3SV0AD3jM",
        "outputId": "4e6ca7c1-0ca9-40c7-c027-7a413dec79b3"
      },
      "execution_count": 6,
      "outputs": [
        {
          "output_type": "stream",
          "name": "stdout",
          "text": [
            "female\n",
            "female\n"
          ]
        }
      ]
    },
    {
      "cell_type": "code",
      "source": [
        "nltk.classify.accuracy(classifier, dev_set)"
      ],
      "metadata": {
        "colab": {
          "base_uri": "https://localhost:8080/"
        },
        "id": "jIDiwMpKERbM",
        "outputId": "2c541172-f4ae-4b06-9159-4d3474c67c6b"
      },
      "execution_count": 7,
      "outputs": [
        {
          "output_type": "execute_result",
          "data": {
            "text/plain": [
              "0.7758186397984886"
            ]
          },
          "metadata": {},
          "execution_count": 7
        }
      ]
    },
    {
      "cell_type": "code",
      "source": [
        "classifier.show_most_informative_features(10)"
      ],
      "metadata": {
        "colab": {
          "base_uri": "https://localhost:8080/"
        },
        "id": "BTf98XzKEnL_",
        "outputId": "385fbb05-f022-4784-cb4b-92bb97c4fd3a"
      },
      "execution_count": 8,
      "outputs": [
        {
          "output_type": "stream",
          "name": "stdout",
          "text": [
            "Most Informative Features\n",
            "             last_letter = 'a'            female : male   =     21.2 : 1.0\n",
            "             last_letter = 'k'              male : female =     10.8 : 1.0\n",
            "             last_letter = 'o'              male : female =     10.0 : 1.0\n",
            "             last_letter = 'd'              male : female =      8.7 : 1.0\n",
            "             last_letter = 'g'              male : female =      5.7 : 1.0\n",
            "             last_letter = 'r'              male : female =      5.1 : 1.0\n",
            "             last_letter = 'w'              male : female =      4.5 : 1.0\n",
            "             last_letter = 'h'              male : female =      3.2 : 1.0\n",
            "             last_letter = 't'              male : female =      3.1 : 1.0\n",
            "             last_letter = 'i'            female : male   =      2.9 : 1.0\n"
          ]
        }
      ]
    },
    {
      "cell_type": "code",
      "source": [
        "# from nltk.classify import apply_features\n",
        "# train_set = apply_features(gender_features, labeled_names[500:])\n",
        "# test_set = apply_features(gender_features, labeled_names[:500])\n",
        "\n",
        "# \"\"\"When working with large corpora, constructing a single list that contains the features of every instance can use up a large amount of memory. \n",
        "# In these cases, use the function nltk.classify.apply_features, which returns an object that acts like a list but does not store all the feature sets in memory\"\"\""
      ],
      "metadata": {
        "id": "v9PZA5ISIl50"
      },
      "execution_count": 9,
      "outputs": []
    },
    {
      "cell_type": "markdown",
      "source": [
        "### Checking whether other features can help us distinguish the words better"
      ],
      "metadata": {
        "id": "0JYUU5EnFKrx"
      }
    },
    {
      "cell_type": "markdown",
      "source": [
        "1. Name Length"
      ],
      "metadata": {
        "id": "AfRNhCtUEtrO"
      }
    },
    {
      "cell_type": "code",
      "source": [
        "def gender_features2(word):\n",
        "    return {'name_length': len(word)}\n",
        "gender_features2('Teddy')"
      ],
      "metadata": {
        "colab": {
          "base_uri": "https://localhost:8080/"
        },
        "id": "HTJRmzjZFfbo",
        "outputId": "8c43a9aa-c11a-4573-804a-63397ca5755e"
      },
      "execution_count": 10,
      "outputs": [
        {
          "output_type": "execute_result",
          "data": {
            "text/plain": [
              "{'name_length': 5}"
            ]
          },
          "metadata": {},
          "execution_count": 10
        }
      ]
    },
    {
      "cell_type": "code",
      "source": [
        "featuresets2 = [(gender_features2(n), gender) for (n, gender) in labeled_names]\n",
        "train_set2, test_set2, dev_set2 = featuresets2[1588:], featuresets2[:794], featuresets2[794:1588]\n",
        "classifier2 = nltk.NaiveBayesClassifier.train(train_set2)\n",
        "\n",
        "print(classifier2.classify(gender_features2('Teddy')))\n",
        "\n",
        "print(classifier2.classify(gender_features2('Michael')))"
      ],
      "metadata": {
        "colab": {
          "base_uri": "https://localhost:8080/"
        },
        "id": "7yxSufjyFn-W",
        "outputId": "4768c49c-6179-4a9b-86d2-72a308962899"
      },
      "execution_count": 11,
      "outputs": [
        {
          "output_type": "stream",
          "name": "stdout",
          "text": [
            "female\n",
            "female\n"
          ]
        }
      ]
    },
    {
      "cell_type": "code",
      "source": [
        "nltk.classify.accuracy(classifier2, dev_set)"
      ],
      "metadata": {
        "colab": {
          "base_uri": "https://localhost:8080/"
        },
        "id": "7WfmpOTJGOkp",
        "outputId": "9f6ed134-8ea8-4910-a44b-784e11ace934"
      },
      "execution_count": 12,
      "outputs": [
        {
          "output_type": "execute_result",
          "data": {
            "text/plain": [
              "0.6612090680100756"
            ]
          },
          "metadata": {},
          "execution_count": 12
        }
      ]
    },
    {
      "cell_type": "code",
      "source": [
        "classifier2.show_most_informative_features(10)"
      ],
      "metadata": {
        "colab": {
          "base_uri": "https://localhost:8080/"
        },
        "id": "EclcsEMtGcmO",
        "outputId": "ffebd9f3-eb16-4c2a-85e4-956260122918"
      },
      "execution_count": 13,
      "outputs": [
        {
          "output_type": "stream",
          "name": "stdout",
          "text": [
            "Most Informative Features\n",
            "             name_length = 2                male : female =      2.8 : 1.0\n",
            "             name_length = 3                male : female =      2.0 : 1.0\n",
            "             name_length = 12               male : female =      1.3 : 1.0\n",
            "             name_length = 10             female : male   =      1.3 : 1.0\n",
            "             name_length = 9              female : male   =      1.3 : 1.0\n",
            "             name_length = 4                male : female =      1.3 : 1.0\n",
            "             name_length = 11             female : male   =      1.2 : 1.0\n",
            "             name_length = 7              female : male   =      1.1 : 1.0\n",
            "             name_length = 8              female : male   =      1.1 : 1.0\n",
            "             name_length = 5              female : male   =      1.1 : 1.0\n"
          ]
        }
      ]
    },
    {
      "cell_type": "markdown",
      "source": [
        "2. First letter"
      ],
      "metadata": {
        "id": "MvgqJKTSHCEV"
      }
    },
    {
      "cell_type": "code",
      "source": [
        "def gender_features3(word):\n",
        "    return {'first_letter': word[0]}\n",
        "gender_features3('Teddy')"
      ],
      "metadata": {
        "colab": {
          "base_uri": "https://localhost:8080/"
        },
        "id": "Ob2JyabdGgxZ",
        "outputId": "a72e94e2-4e69-49b2-e332-744a08997980"
      },
      "execution_count": 14,
      "outputs": [
        {
          "output_type": "execute_result",
          "data": {
            "text/plain": [
              "{'first_letter': 'T'}"
            ]
          },
          "metadata": {},
          "execution_count": 14
        }
      ]
    },
    {
      "cell_type": "code",
      "source": [
        "featuresets3 = [(gender_features3(n), gender) for (n, gender) in labeled_names]\n",
        "train_set3, test_set3, dev_set3 = featuresets3[1588:], featuresets3[:794], featuresets3[794:1588]\n",
        "classifier3 = nltk.NaiveBayesClassifier.train(train_set3)\n",
        "\n",
        "print(classifier3.classify(gender_features3('Teddy')))\n",
        "\n",
        "print(classifier3.classify(gender_features3('Michael')))"
      ],
      "metadata": {
        "colab": {
          "base_uri": "https://localhost:8080/"
        },
        "id": "R8ypDTIBHR7H",
        "outputId": "1243f8cf-51db-4310-dfc1-8b94ddb5e979"
      },
      "execution_count": 15,
      "outputs": [
        {
          "output_type": "stream",
          "name": "stdout",
          "text": [
            "female\n",
            "female\n"
          ]
        }
      ]
    },
    {
      "cell_type": "code",
      "source": [
        "nltk.classify.accuracy(classifier3, dev_set3)"
      ],
      "metadata": {
        "colab": {
          "base_uri": "https://localhost:8080/"
        },
        "id": "KVp9XbpwHo8Z",
        "outputId": "109c4ff8-07e9-4c53-f8c4-29b862d0ae2e"
      },
      "execution_count": 16,
      "outputs": [
        {
          "output_type": "execute_result",
          "data": {
            "text/plain": [
              "0.6712846347607053"
            ]
          },
          "metadata": {},
          "execution_count": 16
        }
      ]
    },
    {
      "cell_type": "code",
      "source": [
        "classifier3.show_most_informative_features(10)"
      ],
      "metadata": {
        "colab": {
          "base_uri": "https://localhost:8080/"
        },
        "id": "QdmpP_PxHx1Z",
        "outputId": "63339a2d-6ca3-4d4b-b9b3-a18ab5c7b702"
      },
      "execution_count": 17,
      "outputs": [
        {
          "output_type": "stream",
          "name": "stdout",
          "text": [
            "Most Informative Features\n",
            "            first_letter = 'W'              male : female =      4.8 : 1.0\n",
            "            first_letter = 'U'              male : female =      2.6 : 1.0\n",
            "            first_letter = 'X'              male : female =      2.4 : 1.0\n",
            "            first_letter = 'K'            female : male   =      2.4 : 1.0\n",
            "            first_letter = 'Q'              male : female =      2.2 : 1.0\n",
            "            first_letter = 'H'              male : female =      2.2 : 1.0\n",
            "            first_letter = 'L'            female : male   =      1.8 : 1.0\n",
            "            first_letter = 'T'              male : female =      1.6 : 1.0\n",
            "            first_letter = 'Z'              male : female =      1.6 : 1.0\n",
            "            first_letter = 'Y'              male : female =      1.6 : 1.0\n"
          ]
        }
      ]
    },
    {
      "cell_type": "markdown",
      "source": [
        "3. First and Last letter"
      ],
      "metadata": {
        "id": "WZKxdtOGH4Re"
      }
    },
    {
      "cell_type": "code",
      "source": [
        "def gender_features4(word):\n",
        "     features = {}\n",
        "     features[\"first_letter\"] = word[0].lower()\n",
        "     features[\"last_letter\"] = word[-1].lower()\n",
        "     return features\n",
        "gender_features4('Teddy')"
      ],
      "metadata": {
        "colab": {
          "base_uri": "https://localhost:8080/"
        },
        "id": "j1XmlieUYFrC",
        "outputId": "cdc519d9-7aed-46f7-f335-589ab7c87f8c"
      },
      "execution_count": 18,
      "outputs": [
        {
          "output_type": "execute_result",
          "data": {
            "text/plain": [
              "{'first_letter': 't', 'last_letter': 'y'}"
            ]
          },
          "metadata": {},
          "execution_count": 18
        }
      ]
    },
    {
      "cell_type": "code",
      "source": [
        "featuresets4 = [(gender_features4(n), gender) for (n, gender) in labeled_names]\n",
        "train_set4, test_set4, dev_set4 = featuresets4[1588:], featuresets4[:794], featuresets4[794:1588]\n",
        "classifier4 = nltk.NaiveBayesClassifier.train(train_set4)\n",
        "\n",
        "print(classifier4.classify(gender_features4('Teddy')))\n",
        "\n",
        "print(classifier4.classify(gender_features4('Michael')))"
      ],
      "metadata": {
        "colab": {
          "base_uri": "https://localhost:8080/"
        },
        "id": "vYrkcRrsYzvF",
        "outputId": "9089b01b-9479-42d9-d66d-d337d4c68ed5"
      },
      "execution_count": 19,
      "outputs": [
        {
          "output_type": "stream",
          "name": "stdout",
          "text": [
            "male\n",
            "female\n"
          ]
        }
      ]
    },
    {
      "cell_type": "code",
      "source": [
        "nltk.classify.accuracy(classifier4, dev_set4)"
      ],
      "metadata": {
        "colab": {
          "base_uri": "https://localhost:8080/"
        },
        "id": "djxAmWc9Zp3N",
        "outputId": "2c2d329d-7f40-4ce2-e6ba-ff86917efa16"
      },
      "execution_count": 20,
      "outputs": [
        {
          "output_type": "execute_result",
          "data": {
            "text/plain": [
              "0.7858942065491183"
            ]
          },
          "metadata": {},
          "execution_count": 20
        }
      ]
    },
    {
      "cell_type": "code",
      "source": [
        "nltk.classify.accuracy(classifier4, test_set4)"
      ],
      "metadata": {
        "colab": {
          "base_uri": "https://localhost:8080/"
        },
        "id": "eb4Uxsu67iPf",
        "outputId": "a1f2a32e-d0da-40ca-8084-6ef0c54fe296"
      },
      "execution_count": 21,
      "outputs": [
        {
          "output_type": "execute_result",
          "data": {
            "text/plain": [
              "0.7959697732997482"
            ]
          },
          "metadata": {},
          "execution_count": 21
        }
      ]
    },
    {
      "cell_type": "code",
      "source": [
        "classifier4.show_most_informative_features(10)"
      ],
      "metadata": {
        "colab": {
          "base_uri": "https://localhost:8080/"
        },
        "id": "zSnfTXrPZ2Rp",
        "outputId": "ed5f6148-14ec-498b-c686-1c016d840411"
      },
      "execution_count": 22,
      "outputs": [
        {
          "output_type": "stream",
          "name": "stdout",
          "text": [
            "Most Informative Features\n",
            "             last_letter = 'k'              male : female =     35.8 : 1.0\n",
            "             last_letter = 'a'            female : male   =     33.3 : 1.0\n",
            "             last_letter = 'f'              male : female =     14.1 : 1.0\n",
            "             last_letter = 'm'              male : female =     10.8 : 1.0\n",
            "             last_letter = 'd'              male : female =      9.5 : 1.0\n",
            "             last_letter = 'v'              male : female =      8.9 : 1.0\n",
            "             last_letter = 'o'              male : female =      7.9 : 1.0\n",
            "             last_letter = 'p'              male : female =      7.6 : 1.0\n",
            "             last_letter = 'r'              male : female =      7.5 : 1.0\n",
            "             last_letter = 'w'              male : female =      6.3 : 1.0\n"
          ]
        }
      ]
    },
    {
      "cell_type": "code",
      "source": [
        "from nltk.metrics import *\n",
        "import collections\n",
        "\n"
      ],
      "metadata": {
        "id": "PGcnNjetZ-22"
      },
      "execution_count": 23,
      "outputs": []
    },
    {
      "cell_type": "code",
      "source": [
        "# trainsets = collections.defaultdict(set)\n",
        "# testsets = collections.defaultdict(set)\n",
        "\n",
        "# for i, (feats, label) in enumerate(test_set4):\n",
        "#     trainsets[label].add(i)\n",
        "#     observed = classifier4.classify(feats)\n",
        "#     testsets[observed].add(i)"
      ],
      "metadata": {
        "id": "nTiJ5mD_mLZH"
      },
      "execution_count": 24,
      "outputs": []
    },
    {
      "cell_type": "code",
      "source": [
        "# print( 'Precision:', nltk.metrics.precision(trainsets, testsets) )\n",
        "# print( 'Recall:', nltk.metrics.recall(trainsets, testsets) )"
      ],
      "metadata": {
        "id": "SgTeNYYaoFqV"
      },
      "execution_count": 25,
      "outputs": []
    },
    {
      "cell_type": "code",
      "source": [
        "def precision_recall(classifier, test_dict):\n",
        "    refsets = collections.defaultdict(set)\n",
        "    testsets = collections.defaultdict(set)\n",
        "    for i, (feats, label) in enumerate(test_dict):\n",
        "        refsets[label].add(i)\n",
        "        observed = classifier.classify(feats)\n",
        "        testsets[observed].add(i)\n",
        "    print ('male precision:', precision(refsets['male'], testsets['male']))\n",
        "    print ('male recall:', recall(refsets['male'], testsets['male']))\n",
        "    print ('male F-measure:', f_measure(refsets['male'], testsets['male']))\n",
        "    print ('female precision:', precision(refsets['female'], testsets['female']))\n",
        "    print ('female recall:', recall(refsets['female'], testsets['female']))\n",
        "    print ('female F-measure:', f_measure(refsets['female'], testsets['female']))"
      ],
      "metadata": {
        "id": "QtY6i8VcsBHH"
      },
      "execution_count": 26,
      "outputs": []
    },
    {
      "cell_type": "code",
      "source": [
        "precision_recall(classifier4,test_set4)"
      ],
      "metadata": {
        "colab": {
          "base_uri": "https://localhost:8080/"
        },
        "id": "VzTPPwhiul9-",
        "outputId": "e381d3d7-d0d6-4da0-8bfa-f0abaedcc5a1"
      },
      "execution_count": 27,
      "outputs": [
        {
          "output_type": "stream",
          "name": "stdout",
          "text": [
            "male precision: 0.7193675889328063\n",
            "male recall: 0.6666666666666666\n",
            "male F-measure: 0.6920152091254752\n",
            "female precision: 0.8317929759704251\n",
            "female recall: 0.8637236084452975\n",
            "female F-measure: 0.8474576271186439\n"
          ]
        }
      ]
    },
    {
      "cell_type": "code",
      "source": [
        "classifier5 = nltk.DecisionTreeClassifier.train(train_set4)"
      ],
      "metadata": {
        "id": "iICKBHR-ur4Z"
      },
      "execution_count": 28,
      "outputs": []
    },
    {
      "cell_type": "code",
      "source": [
        "nltk.classify.accuracy(classifier5, dev_set4)"
      ],
      "metadata": {
        "colab": {
          "base_uri": "https://localhost:8080/"
        },
        "id": "x89ACTlj8xUn",
        "outputId": "e7ee1b37-0a0c-4b34-b222-fa59c7ccecf8"
      },
      "execution_count": 29,
      "outputs": [
        {
          "output_type": "execute_result",
          "data": {
            "text/plain": [
              "0.792191435768262"
            ]
          },
          "metadata": {},
          "execution_count": 29
        }
      ]
    },
    {
      "cell_type": "code",
      "source": [
        "nltk.classify.accuracy(classifier5, test_set4)"
      ],
      "metadata": {
        "colab": {
          "base_uri": "https://localhost:8080/"
        },
        "id": "8kmwHqUQ-7si",
        "outputId": "bb069a70-bd1d-476d-f270-aebc905004a7"
      },
      "execution_count": 30,
      "outputs": [
        {
          "output_type": "execute_result",
          "data": {
            "text/plain": [
              "0.7871536523929471"
            ]
          },
          "metadata": {},
          "execution_count": 30
        }
      ]
    },
    {
      "cell_type": "code",
      "source": [
        "precision_recall(classifier5, test_set4)"
      ],
      "metadata": {
        "colab": {
          "base_uri": "https://localhost:8080/"
        },
        "id": "CPmt5n_F89X6",
        "outputId": "b0f0bcb1-1917-4c6a-a592-89522b30bb90"
      },
      "execution_count": 31,
      "outputs": [
        {
          "output_type": "stream",
          "name": "stdout",
          "text": [
            "male precision: 0.7\n",
            "male recall: 0.6666666666666666\n",
            "male F-measure: 0.6829268292682926\n",
            "female precision: 0.8295880149812734\n",
            "female recall: 0.8502879078694817\n",
            "female F-measure: 0.8398104265402844\n"
          ]
        }
      ]
    },
    {
      "cell_type": "code",
      "source": [
        "errors = []\n",
        "for (name, tag) in test_set2:\n",
        "    guess = classifier2.classify(gender_features2(name))\n",
        "    if guess != tag:         \n",
        "      errors.append((tag, guess, name))"
      ],
      "metadata": {
        "id": "hBUg6IqQ9L8A"
      },
      "execution_count": 49,
      "outputs": []
    },
    {
      "cell_type": "code",
      "source": [
        "for (tag, guess, name) in errors:\n",
        "  print('correct={} guess={} length={}'.format(tag, guess, name))"
      ],
      "metadata": {
        "id": "GDj89Cze_v-W"
      },
      "execution_count": null,
      "outputs": []
    },
    {
      "cell_type": "code",
      "source": [
        ""
      ],
      "metadata": {
        "id": "zIuwjVX5Baag"
      },
      "execution_count": null,
      "outputs": []
    }
  ]
}